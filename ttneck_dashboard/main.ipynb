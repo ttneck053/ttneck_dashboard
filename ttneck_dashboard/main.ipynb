{
 "cells": [
  {
   "cell_type": "code",
   "execution_count": null,
   "id": "c2a412f8",
   "metadata": {},
   "outputs": [
    {
     "name": "stdout",
     "output_type": "stream",
     "text": [
      "hellworld\n"
     ]
    }
   ],
   "source": [
    "import requests\n",
    "import pandas as pd\n",
    "from datetime import datetime, timedelta\n",
    "\n",
    "###ㅅㅂ 근데 잘 안되노\n",
    "IG_USER_ID = \"여기에_ig_user_id\"\n",
    "ACCESS_TOKEN = \"여기에_access_token\"\n",
    "\n",
    "# 1) 계정 팔로워 수 가져오기\n",
    "url_account = f\"https://graph.facebook.com/v20.0/{IG_USER_ID}/insights\"\n",
    "params_account = {\n",
    "    \"metric\": \"follower_count\",\n",
    "    \"period\": \"day\",\n",
    "    \"access_token\": ACCESS_TOKEN\n",
    "}\n",
    "res_account = requests.get(url_account, params=params_account).json()\n",
    "print(res_account)\n",
    "\n",
    "# 2) 게시물 목록 가져오기\n",
    "url_media = f\"https://graph.facebook.com/v20.0/{IG_USER_ID}/media\"\n",
    "params_media = {\n",
    "    \"fields\": \"id,caption,media_type,media_product_type,timestamp\",\n",
    "    \"access_token\": ACCESS_TOKEN\n",
    "}\n",
    "res_media = requests.get(url_media, params=params_media).json()\n",
    "print(res_media)\n"
   ]
  }
 ],
 "metadata": {
  "kernelspec": {
   "display_name": "Python 3",
   "language": "python",
   "name": "python3"
  },
  "language_info": {
   "codemirror_mode": {
    "name": "ipython",
    "version": 3
   },
   "file_extension": ".py",
   "mimetype": "text/x-python",
   "name": "python",
   "nbconvert_exporter": "python",
   "pygments_lexer": "ipython3",
   "version": "3.12.2"
  }
 },
 "nbformat": 4,
 "nbformat_minor": 5
}
