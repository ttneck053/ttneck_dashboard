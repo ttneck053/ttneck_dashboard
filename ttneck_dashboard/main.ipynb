{
 "cells": [
  {
   "cell_type": "code",
   "execution_count": null,
   "id": "c2a412f8",
   "metadata": {},
   "outputs": [
    {
     "name": "stdout",
     "output_type": "stream",
     "text": [
      "{'error': {'message': 'Invalid OAuth access token - Cannot parse access token', 'type': 'OAuthException', 'code': 190, 'fbtrace_id': 'A83rmdGIroZa_LFxR2_38vc'}}\n",
      "{'error': {'message': 'Invalid OAuth access token - Cannot parse access token', 'type': 'OAuthException', 'code': 190, 'fbtrace_id': 'AZqY5gAvN8L2wVpVziskoFj'}}\n"
     ]
    },
    {
     "ename": "",
     "evalue": "",
     "output_type": "error",
     "traceback": [
      "\u001b[1;31mThe Kernel crashed while executing code in the current cell or a previous cell. \n",
      "\u001b[1;31mPlease review the code in the cell(s) to identify a possible cause of the failure. \n",
      "\u001b[1;31mClick <a href='https://aka.ms/vscodeJupyterKernelCrash'>here</a> for more info. \n",
      "\u001b[1;31mView Jupyter <a href='command:jupyter.viewOutput'>log</a> for further details."
     ]
    }
   ],
   "source": [
    "import requests\n",
    "import pandas as pd\n",
    "from datetime import datetime, timedelta\n",
    "\n",
    "IG_USER_ID = \"여기에_ig_user_id\"\n",
    "ACCESS_TOKEN = \"여기에_access_token\"\n",
    "# ...\n",
    "# 1) 계정 팔로워 수 가져오기\n",
    "url_account = f\"https://graph.facebook.com/v20.0/{IG_USER_ID}/insights\"\n",
    "params_account = {\n",
    "    \"metric\": \"follower_count\",\n",
    "    \"period\": \"day\",\n",
    "    \"access_token\": ACCESS_TOKEN\n",
    "}\n",
    "res_account = requests.get(url_account, params=params_account).json()\n",
    "print(res_account)\n",
    "\n",
    "# 2) 게시물 목록 가져오기\n",
    "url_media = f\"https://graph.facebook.com/v20.0/{IG_USER_ID}/media\"\n",
    "params_media = {\n",
    "    \"fields\": \"id,caption,media_type,media_product_type,timestamp\",\n",
    "    \"access_token\": ACCESS_TOKEN\n",
    "}\n",
    "res_media = requests.get(url_media, params=params_media).json()\n",
    "print(res_media)\n"
   ]
  },
  {
   "cell_type": "code",
   "execution_count": null,
   "id": "84171145",
   "metadata": {},
   "outputs": [],
   "source": [
    "# 예시: 계정 팔로워 데이터 DataFrame 변환 및 저장\n",
    "df_followers = pd.DataFrame(res_account['data'][0]['values'])\n",
    "df_followers.to_csv(\"account_insights_daily.csv\", index=False)\n",
    "\n",
    "# 예시: 게시물 데이터 저장\n",
    "df_media = pd.DataFrame(res_media['data'])\n",
    "df_media.to_csv(\"media.csv\", index=False)"
   ]
  },
  {
   "cell_type": "code",
   "execution_count": null,
   "id": "5f74ab03",
   "metadata": {},
   "outputs": [],
   "source": [
    "# 예시 로직: 업로드 날짜 ±2일 범위 팔로워 증감량 계산\n",
    "df_followers['end_value'] = df_followers['value'].shift(-1)\n",
    "df_followers['delta'] = df_followers['end_value'] - df_followers['value']\n",
    "\n",
    "# (임시) Views 데이터는 API로 가져온 후 merge\n",
    "df_merged = pd.merge(df_media, df_followers, how=\"left\", left_on=\"timestamp\", right_on=\"end_time\")\n",
    "\n",
    "df_merged['FCR'] = df_merged['delta'] / df_merged['views']  # views 컬럼은 따로 API 호출 필요\n",
    "df_merged.to_csv(\"follower_conversion.csv\", index=False)"
   ]
  }
 ],
 "metadata": {
  "kernelspec": {
   "display_name": "Python 3",
   "language": "python",
   "name": "python3"
  },
  "language_info": {
   "codemirror_mode": {
    "name": "ipython",
    "version": 3
   },
   "file_extension": ".py",
   "mimetype": "text/x-python",
   "name": "python",
   "nbconvert_exporter": "python",
   "pygments_lexer": "ipython3",
   "version": "3.11.9"
  }
 },
 "nbformat": 4,
 "nbformat_minor": 5
}
